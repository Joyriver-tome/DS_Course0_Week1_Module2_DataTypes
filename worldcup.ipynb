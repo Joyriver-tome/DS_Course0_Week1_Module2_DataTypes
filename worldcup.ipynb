{
 "cells": [
  {
   "cell_type": "code",
   "execution_count": 216,
   "id": "5d3384c8-5428-4087-b4cd-5c0d32b22099",
   "metadata": {},
   "outputs": [],
   "source": [
    "import json\n",
    "import csv"
   ]
  },
  {
   "cell_type": "code",
   "execution_count": 217,
   "id": "886df32b-d3e0-4e38-9789-256e4ef7c12e",
   "metadata": {},
   "outputs": [],
   "source": [
    "# Data\n",
    "\n",
    "with open('world_cup_2018.json', encoding='utf8') as world_cup_file: \n",
    "    world_cup_data = json.load(world_cup_file)\n",
    "\n",
    "with open('country_populations.csv') as population_file:\n",
    "    reader = csv.DictReader(population_file)\n",
    "    population_data = list(reader)"
   ]
  },
  {
   "cell_type": "code",
   "execution_count": 218,
   "id": "b433a22c-a830-4bc8-ae64-05075d34d99b",
   "metadata": {},
   "outputs": [
    {
     "name": "stdout",
     "output_type": "stream",
     "text": [
      "World Cup 2018\n",
      "20\n",
      "{'': '2714', 'Country Name': 'Afghanistan', 'Country Code': 'AFG', 'Year': '1960', 'Value': '8996973'}\n"
     ]
    }
   ],
   "source": [
    "# Check that the overall data structure is a dictionary\n",
    "# Check that the dictionary has 2 kyes, 'name' and 'rounds'\n",
    "\n",
    "assert type(world_cup_data) == dict\n",
    "assert list(world_cup_data.keys()) == ['name', 'rounds']\n",
    "\n",
    "print(world_cup_data['name'])\n",
    "print(len(world_cup_data['rounds']))\n",
    "print(population_data[0])"
   ]
  },
  {
   "cell_type": "code",
   "execution_count": 219,
   "id": "eb0fe6ee-923e-4a79-b7c5-1093bb2606d0",
   "metadata": {},
   "outputs": [],
   "source": [
    "# Check that the overall data structure is a list\n",
    "# Check that the 0th element is a dictionary\n",
    "\n",
    "assert type(population_data) == list\n",
    "assert type(population_data[0]) == dict"
   ]
  },
  {
   "cell_type": "code",
   "execution_count": 220,
   "id": "114bde98-cd74-4f99-a4c5-42583a3b95da",
   "metadata": {},
   "outputs": [
    {
     "name": "stdout",
     "output_type": "stream",
     "text": [
      "dict_keys(['name', 'rounds'])\n"
     ]
    }
   ],
   "source": [
    "highest_lvl_keys = world_cup_data.keys()\n",
    "print(highest_lvl_keys)"
   ]
  },
  {
   "cell_type": "code",
   "execution_count": 221,
   "id": "9d235da3-294a-4236-9004-49df94b97a31",
   "metadata": {},
   "outputs": [
    {
     "name": "stdout",
     "output_type": "stream",
     "text": [
      "World Cup 2018\n",
      "{'name': 'Matchday 1', 'matches': [{'num': 1, 'date': '2018-06-14', 'time': '18:00', 'team1': {'name': 'Russia', 'code': 'RUS'}, 'team2': {'name': 'Saudi Arabia', 'code': 'KSA'}, 'score1': 5, 'score2': 0, 'score1i': 2, 'score2i': 0, 'goals1': [{'name': 'Gazinsky', 'minute': 12, 'score1': 1, 'score2': 0}, {'name': 'Cheryshev', 'minute': 43, 'score1': 2, 'score2': 0}, {'name': 'Dzyuba', 'minute': 71, 'score1': 3, 'score2': 0}, {'name': 'Cheryshev', 'minute': 90, 'offset': 1, 'score1': 4, 'score2': 0}, {'name': 'Golovin', 'minute': 90, 'offset': 4, 'score1': 5, 'score2': 0}], 'goals2': [], 'group': 'Group A', 'stadium': {'key': 'luzhniki', 'name': 'Luzhniki Stadium'}, 'city': 'Moscow', 'timezone': 'UTC+3'}]}\n"
     ]
    }
   ],
   "source": [
    "print(world_cup_data['name'])\n",
    "print(world_cup_data['rounds'][0])"
   ]
  },
  {
   "cell_type": "code",
   "execution_count": 222,
   "id": "60754176-55a9-495a-801f-a7548e5a4a23",
   "metadata": {},
   "outputs": [
    {
     "data": {
      "text/plain": [
       "{'num': 1,\n",
       " 'date': '2018-06-14',\n",
       " 'time': '18:00',\n",
       " 'team1': {'name': 'Russia', 'code': 'RUS'},\n",
       " 'team2': {'name': 'Saudi Arabia', 'code': 'KSA'},\n",
       " 'score1': 5,\n",
       " 'score2': 0,\n",
       " 'score1i': 2,\n",
       " 'score2i': 0,\n",
       " 'goals1': [{'name': 'Gazinsky', 'minute': 12, 'score1': 1, 'score2': 0},\n",
       "  {'name': 'Cheryshev', 'minute': 43, 'score1': 2, 'score2': 0},\n",
       "  {'name': 'Dzyuba', 'minute': 71, 'score1': 3, 'score2': 0},\n",
       "  {'name': 'Cheryshev', 'minute': 90, 'offset': 1, 'score1': 4, 'score2': 0},\n",
       "  {'name': 'Golovin', 'minute': 90, 'offset': 4, 'score1': 5, 'score2': 0}],\n",
       " 'goals2': [],\n",
       " 'group': 'Group A',\n",
       " 'stadium': {'key': 'luzhniki', 'name': 'Luzhniki Stadium'},\n",
       " 'city': 'Moscow',\n",
       " 'timezone': 'UTC+3'}"
      ]
     },
     "execution_count": 222,
     "metadata": {},
     "output_type": "execute_result"
    }
   ],
   "source": [
    "# Extracting Matches\n",
    "\n",
    "matches = []\n",
    "rounds = world_cup_data['rounds']\n",
    "\n",
    "for round_ in rounds:\n",
    "    round_matches = round_['matches']\n",
    "    matches.extend(round_matches)\n",
    "\n",
    "matches[0]"
   ]
  },
  {
   "cell_type": "code",
   "execution_count": 223,
   "id": "2f386931-4edd-455b-afc4-4f82a6644088",
   "metadata": {},
   "outputs": [],
   "source": [
    "assert len(matches) == 64\n",
    "assert type(matches[0]) == dict"
   ]
  },
  {
   "cell_type": "code",
   "execution_count": 224,
   "id": "07f42264-e044-4f9f-9b33-d55d2b9b55b6",
   "metadata": {},
   "outputs": [
    {
     "name": "stdout",
     "output_type": "stream",
     "text": [
      "['Argentina', 'Australia', 'Belgium', 'Brazil', 'Colombia', 'Costa Rica', 'Croatia', 'Denmark', 'Egypt', 'England', 'France', 'Germany', 'Iceland', 'Iran', 'Japan', 'Mexico', 'Morocco', 'Nigeria', 'Panama', 'Peru', 'Poland', 'Portugal', 'Russia', 'Saudi Arabia', 'Senegal', 'Serbia', 'South Korea', 'Spain', 'Sweden', 'Switzerland', 'Tunisia', 'Uruguay']\n"
     ]
    }
   ],
   "source": [
    "teams_set = set()\n",
    "\n",
    "for match in matches:\n",
    "    teams_set.add(match['team1']['name'])\n",
    "    teams_set.add(match['team2']['name'])\n",
    "\n",
    "teams = sorted(list(teams_set))\n",
    "print(teams)"
   ]
  },
  {
   "cell_type": "code",
   "execution_count": 225,
   "id": "78e02bdc-d3cb-4f32-ae43-5efa1461b009",
   "metadata": {},
   "outputs": [],
   "source": [
    "assert type(teams) == list\n",
    "assert len(teams) == 32\n",
    "assert type(teams[0]) == str"
   ]
  },
  {
   "cell_type": "code",
   "execution_count": 226,
   "id": "477f0547-fec3-488e-b8d8-b6ff467fc430",
   "metadata": {},
   "outputs": [],
   "source": [
    "combined_data = {team: {'wins': 0} for team in teams}\n",
    "\n",
    "assert type(combined_data) == dict\n",
    "assert type(list(combined_data.keys())[0]) == str\n",
    "assert combined_data['Japan'] == {'wins': 0}"
   ]
  },
  {
   "cell_type": "code",
   "execution_count": 227,
   "id": "490eb2e8-430c-4317-8f83-40fb22b7ae13",
   "metadata": {},
   "outputs": [],
   "source": [
    "def find_winner(match):\n",
    "    if match['score1'] > match['score2']:\n",
    "        return match['team1']['name']\n",
    "    elif match['score2'] > match['score1']:\n",
    "        return match['team2']['name']\n",
    "    else:\n",
    "        return None"
   ]
  },
  {
   "cell_type": "code",
   "execution_count": 228,
   "id": "77fca36c-9cda-4047-8e94-5f3e9c98bfc0",
   "metadata": {},
   "outputs": [],
   "source": [
    "assert find_winner(matches[0]) == 'Russia'\n",
    "assert find_winner(matches[1]) == 'Uruguay'\n",
    "assert find_winner(matches[2]) == None"
   ]
  },
  {
   "cell_type": "code",
   "execution_count": 275,
   "id": "bf051662-e11a-4406-87e5-56d3f8d50a7a",
   "metadata": {},
   "outputs": [
    {
     "data": {
      "text/plain": [
       "{'Argentina': {'wins': 2},\n",
       " 'Australia': {'wins': 0},\n",
       " 'Belgium': {'wins': 12},\n",
       " 'Brazil': {'wins': 6},\n",
       " 'Colombia': {'wins': 4},\n",
       " 'Costa Rica': {'wins': 0},\n",
       " 'Croatia': {'wins': 6},\n",
       " 'Denmark': {'wins': 2},\n",
       " 'Egypt': {'wins': 0},\n",
       " 'England': {'wins': 6},\n",
       " 'France': {'wins': 12},\n",
       " 'Germany': {'wins': 2},\n",
       " 'Iceland': {'wins': 0},\n",
       " 'Iran': {'wins': 2},\n",
       " 'Japan': {'wins': 2},\n",
       " 'Mexico': {'wins': 4},\n",
       " 'Morocco': {'wins': 0},\n",
       " 'Nigeria': {'wins': 2},\n",
       " 'Panama': {'wins': 0},\n",
       " 'Peru': {'wins': 2},\n",
       " 'Poland': {'wins': 2},\n",
       " 'Portugal': {'wins': 2},\n",
       " 'Russia': {'wins': 4},\n",
       " 'Saudi Arabia': {'wins': 2},\n",
       " 'Senegal': {'wins': 2},\n",
       " 'Serbia': {'wins': 2},\n",
       " 'South Korea': {'wins': 2},\n",
       " 'Spain': {'wins': 2},\n",
       " 'Sweden': {'wins': 6},\n",
       " 'Switzerland': {'wins': 2},\n",
       " 'Tunisia': {'wins': 2},\n",
       " 'Uruguay': {'wins': 8}}"
      ]
     },
     "execution_count": 275,
     "metadata": {},
     "output_type": "execute_result"
    }
   ],
   "source": [
    "for match in matches:\n",
    "    winner = find_winner(match)\n",
    "    if winner:\n",
    "        combined_data[winner]['wins'] += 1\n",
    "\n",
    "combined_data"
   ]
  },
  {
   "cell_type": "code",
   "execution_count": 277,
   "id": "d480851a-7fe9-40e3-b51b-465d605745f5",
   "metadata": {},
   "outputs": [
    {
     "data": {
      "text/plain": [
       "27"
      ]
     },
     "execution_count": 277,
     "metadata": {},
     "output_type": "execute_result"
    }
   ],
   "source": [
    "population_data_filtered = []\n",
    "\n",
    "for record in population_data:\n",
    "    if record['Country Name'] in teams and record['Year'] == '2018':\n",
    "        population_data_filtered.append(record)\n",
    "\n",
    "len(population_data_filtered)"
   ]
  },
  {
   "cell_type": "code",
   "execution_count": 279,
   "id": "3c1b4774-bcbf-42ff-8cad-36aa1503fe54",
   "metadata": {},
   "outputs": [
    {
     "data": {
      "text/plain": [
       "{'': '3834',\n",
       " 'Country Name': 'Belgium',\n",
       " 'Country Code': 'BEL',\n",
       " 'Year': '2018',\n",
       " 'Value': 11433256}"
      ]
     },
     "execution_count": 279,
     "metadata": {},
     "output_type": "execute_result"
    }
   ],
   "source": [
    "population_record_samples = population_data_filtered[:5]\n",
    "population_record_samples[2]"
   ]
  },
  {
   "cell_type": "code",
   "execution_count": 281,
   "id": "0fd975d8-3b5f-481e-b905-ad3f7eaab995",
   "metadata": {},
   "outputs": [
    {
     "data": {
      "text/plain": [
       "'Iran'"
      ]
     },
     "execution_count": 281,
     "metadata": {},
     "output_type": "execute_result"
    }
   ],
   "source": [
    "teams[13]"
   ]
  },
  {
   "cell_type": "code",
   "execution_count": 283,
   "id": "00196939-bd13-486c-888d-67410d38be66",
   "metadata": {},
   "outputs": [
    {
     "name": "stdout",
     "output_type": "stream",
     "text": [
      "Russia\n",
      "Argentina\n"
     ]
    }
   ],
   "source": [
    "def normalize_location(country_name):\n",
    "    \"\"\"\n",
    "    Given a country name, return the name that the\n",
    "    country uses when playing in the FIFA World Cup\n",
    "    \"\"\"\n",
    "    name_sub_dict = {\n",
    "        \"Russian Federation\": \"Russia\",\n",
    "        \"Egypt, Arab Rep.\": \"Egypt\",\n",
    "        \"Iran, Islamic Rep.\": \"Iran\",\n",
    "        \"Korea, Rep.\": \"South Korea\",\n",
    "        \"United Kingdom\": \"England\"\n",
    "    }\n",
    "    return name_sub_dict.get(country_name, country_name)\n",
    "\n",
    "print(normalize_location(\"Russian Federation\"))\n",
    "print(normalize_location(\"Argentina\"))"
   ]
  },
  {
   "cell_type": "code",
   "execution_count": 293,
   "id": "ff01f426-51c8-4b46-90eb-a89054c7eb59",
   "metadata": {},
   "outputs": [
    {
     "data": {
      "text/plain": [
       "27"
      ]
     },
     "execution_count": 293,
     "metadata": {},
     "output_type": "execute_result"
    }
   ],
   "source": [
    "polulation_data_filtered = []\n",
    "\n",
    "for record in population_data:\n",
    "    country = record['Country Name'].strip().lower()\n",
    "    teams_lower = [t.lower() for t in teams]\n",
    "    \n",
    "    if country in teams and record['Year'] == '2018':\n",
    "        country = normalize_location(country)\n",
    "        record[\"Country Name\"] = country\n",
    "        population_data_filtered.append(record)\n",
    "\n",
    "len(population_data_filtered)"
   ]
  },
  {
   "cell_type": "code",
   "execution_count": 285,
   "id": "02eead64-03c3-4f4d-829c-da32ad1855b9",
   "metadata": {},
   "outputs": [],
   "source": [
    "for record in population_data_filtered:\n",
    "    if record[\"Value\"] is not None:\n",
    "        record[\"Value\"] = int(record[\"Value\"])\n",
    "\n",
    "population_data_filtered[-1]\n",
    "\n",
    "assert type(population_data_filtered[-1][\"Value\"]) == int"
   ]
  },
  {
   "cell_type": "code",
   "execution_count": 287,
   "id": "b9fd707a-56c2-4618-96dd-e39236123baf",
   "metadata": {},
   "outputs": [
    {
     "data": {
      "text/plain": [
       "{'Argentina': {'wins': 2},\n",
       " 'Australia': {'wins': 0},\n",
       " 'Belgium': {'wins': 12},\n",
       " 'Brazil': {'wins': 6},\n",
       " 'Colombia': {'wins': 4},\n",
       " 'Costa Rica': {'wins': 0},\n",
       " 'Croatia': {'wins': 6},\n",
       " 'Denmark': {'wins': 2},\n",
       " 'Egypt': {'wins': 0},\n",
       " 'England': {'wins': 6},\n",
       " 'France': {'wins': 12},\n",
       " 'Germany': {'wins': 2},\n",
       " 'Iceland': {'wins': 0},\n",
       " 'Iran': {'wins': 2},\n",
       " 'Japan': {'wins': 2},\n",
       " 'Mexico': {'wins': 4},\n",
       " 'Morocco': {'wins': 0},\n",
       " 'Nigeria': {'wins': 2},\n",
       " 'Panama': {'wins': 0},\n",
       " 'Peru': {'wins': 2},\n",
       " 'Poland': {'wins': 2},\n",
       " 'Portugal': {'wins': 2},\n",
       " 'Russia': {'wins': 4},\n",
       " 'Saudi Arabia': {'wins': 2},\n",
       " 'Senegal': {'wins': 2},\n",
       " 'Serbia': {'wins': 2},\n",
       " 'South Korea': {'wins': 2},\n",
       " 'Spain': {'wins': 2},\n",
       " 'Sweden': {'wins': 6},\n",
       " 'Switzerland': {'wins': 2},\n",
       " 'Tunisia': {'wins': 2},\n",
       " 'Uruguay': {'wins': 8}}"
      ]
     },
     "execution_count": 287,
     "metadata": {},
     "output_type": "execute_result"
    }
   ],
   "source": [
    "combined_data"
   ]
  },
  {
   "cell_type": "code",
   "execution_count": 297,
   "id": "de647e22-1333-4d87-b250-78f164eb336b",
   "metadata": {},
   "outputs": [
    {
     "data": {
      "text/plain": [
       "{'Argentina': {'wins': 2, 'population': 44494502},\n",
       " 'Australia': {'wins': 0, 'population': 24982688},\n",
       " 'Belgium': {'wins': 12, 'population': 11433256},\n",
       " 'Brazil': {'wins': 6, 'population': 209469333},\n",
       " 'Colombia': {'wins': 4, 'population': 49648685},\n",
       " 'Costa Rica': {'wins': 0, 'population': 4999441},\n",
       " 'Croatia': {'wins': 6, 'population': 4087843},\n",
       " 'Denmark': {'wins': 2, 'population': 5793636},\n",
       " 'Egypt': {'wins': 0},\n",
       " 'England': {'wins': 6},\n",
       " 'France': {'wins': 12, 'population': 66977107},\n",
       " 'Germany': {'wins': 2, 'population': 82905782},\n",
       " 'Iceland': {'wins': 0, 'population': 352721},\n",
       " 'Iran': {'wins': 2},\n",
       " 'Japan': {'wins': 2, 'population': 126529100},\n",
       " 'Mexico': {'wins': 4, 'population': 126190788},\n",
       " 'Morocco': {'wins': 0, 'population': 36029138},\n",
       " 'Nigeria': {'wins': 2, 'population': 195874740},\n",
       " 'Panama': {'wins': 0, 'population': 4176873},\n",
       " 'Peru': {'wins': 2, 'population': 31989256},\n",
       " 'Poland': {'wins': 2, 'population': 37974750},\n",
       " 'Portugal': {'wins': 2, 'population': 10283822},\n",
       " 'Russia': {'wins': 4},\n",
       " 'Saudi Arabia': {'wins': 2, 'population': 33699947},\n",
       " 'Senegal': {'wins': 2, 'population': 15854360},\n",
       " 'Serbia': {'wins': 2, 'population': 6982604},\n",
       " 'South Korea': {'wins': 2},\n",
       " 'Spain': {'wins': 2, 'population': 46796540},\n",
       " 'Sweden': {'wins': 6, 'population': 10175214},\n",
       " 'Switzerland': {'wins': 2, 'population': 8513227},\n",
       " 'Tunisia': {'wins': 2, 'population': 11565204},\n",
       " 'Uruguay': {'wins': 8, 'population': 3449299}}"
      ]
     },
     "execution_count": 297,
     "metadata": {},
     "output_type": "execute_result"
    }
   ],
   "source": [
    "for record in population_data_filtered:\n",
    "    country = record[\"Country Name\"]\n",
    "    population = int(record[\"Value\"]) if record[\"Value\"] is not None else None\n",
    "    \n",
    "    for team in combined_data:\n",
    "        if team.lower() == country.lower():\n",
    "            combined_data[team][\"population\"] = population\n",
    "\n",
    "combined_data"
   ]
  },
  {
   "cell_type": "code",
   "execution_count": 299,
   "id": "0f1e9980-b2f5-4a23-ab4d-3de4e0bef4c9",
   "metadata": {},
   "outputs": [],
   "source": [
    "assert type(combined_data[\"Uruguay\"]) == dict\n",
    "assert type(combined_data[\"Uruguay\"][\"population\"]) == int"
   ]
  },
  {
   "cell_type": "code",
   "execution_count": null,
   "id": "2dec81ae-3506-4f83-bf62-62187e96b493",
   "metadata": {},
   "outputs": [],
   "source": []
  }
 ],
 "metadata": {
  "kernelspec": {
   "display_name": "Python [conda env:mac_m.c0c1]",
   "language": "python",
   "name": "conda-env-mac_m.c0c1-py"
  },
  "language_info": {
   "codemirror_mode": {
    "name": "ipython",
    "version": 3
   },
   "file_extension": ".py",
   "mimetype": "text/x-python",
   "name": "python",
   "nbconvert_exporter": "python",
   "pygments_lexer": "ipython3",
   "version": "3.12.4"
  }
 },
 "nbformat": 4,
 "nbformat_minor": 5
}
